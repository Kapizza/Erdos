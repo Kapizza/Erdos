{
 "cells": [
  {
   "cell_type": "markdown",
   "id": "6dc0b586",
   "metadata": {},
   "source": [
    "# HW 1\n",
    "\n",
    "**Fall 2025 Quantiative Methods in Finance**\n",
    "\n",
    "**The Erdös Institute**"
   ]
  },
  {
   "cell_type": "markdown",
   "id": "b4f17c45",
   "metadata": {},
   "source": [
    "1) Consider the process $X$ of randomly selecting numbers from the unit interval $[0,1]$ until the sum of values exceeds $1$. Prove that $E[X]=e$."
   ]
  },
  {
   "cell_type": "code",
   "execution_count": 27,
   "id": "18f4c2cb",
   "metadata": {},
   "outputs": [
    {
     "name": "stdout",
     "output_type": "stream",
     "text": [
      "Estimated E[X]: 2.7253 (True value: 2.7183)\n"
     ]
    }
   ],
   "source": [
    "import numpy as np\n",
    "\n",
    "# Monte Carlo simulation to estimate E[X]\n",
    "n_trials = 100000\n",
    "counts = []\n",
    "\n",
    "for _ in range(n_trials):\n",
    "    total = 0\n",
    "    count = 0\n",
    "    while total <= 1:\n",
    "        total += np.random.uniform(0, 1)\n",
    "        count += 1\n",
    "    counts.append(count)\n",
    "\n",
    "estimated_e = np.mean(counts)\n",
    "print(f\"Estimated E[X]: {estimated_e:.4f} (True value: {np.e:.4f})\")"
   ]
  },
  {
   "cell_type": "markdown",
   "id": "2c793c7f",
   "metadata": {},
   "source": [
    "2) Consider the random variable $X$ that selects a number from the two element $\\{1,-1\\}$ with the uniform distribution until the sum of the drawn values is $1$. Prove that $E[X] = \\infty$."
   ]
  },
  {
   "cell_type": "markdown",
   "id": "3720181a",
   "metadata": {},
   "source": [
    "3) Show the probability of winning a pass-line bet in Craps (Vegas rules) is $\\frac{244}{495}$."
   ]
  },
  {
   "cell_type": "markdown",
   "id": "41ce0930",
   "metadata": {},
   "source": [
    "3) Solution:\n",
    "\n",
    "**Come-out roll.**  \n",
    "- Win immediately on 7 or 11: $\\frac{6+2}{36}=\\frac{8}{36}=\\frac{2}{9}$.  \n",
    "- Lose immediately on 2, 3, or 12: $\\frac{1+2+1}{36}=\\frac{4}{36}=\\frac{1}{9}$.  \n",
    "- Otherwise a **point** $p\\in\\{4,5,6,8,9,10\\}$ is established.\n",
    "\n",
    "Let $a(p)$ be the number of dice outcomes that sum to $p$:\n",
    "$$\n",
    "a(4)=3,\\; a(5)=4,\\; a(6)=5,\\; a(8)=5,\\; a(9)=4,\\; a(10)=3,\\qquad a(7)=6.\n",
    "$$\n",
    "\n",
    "**Given a point $p$,** rolls continue until either $p$ (win) or 7 (loss) appears. The probability of eventually hitting $p$ before 7 is\n",
    "$$\n",
    "\\mathbb P(\\text{make }p\\text{ before }7\\mid p)=\\frac{a(p)}{a(p)+a(7)}=\\frac{a(p)}{a(p)+6}.\n",
    "$$\n",
    "\n",
    "The probability of establishing $p$ on the come-out and then winning is\n",
    "$$\n",
    "\\mathbb P(\\text{establish }p)\\cdot \\mathbb P(\\text{win}\\mid p)=\\frac{a(p)}{36}\\cdot \\frac{a(p)}{a(p)+6}.\n",
    "$$\n",
    "\n",
    "**Total win probability**\n",
    "$$\n",
    "\\begin{aligned}\n",
    "\\mathbb P(\\text{win})\n",
    "&= \\underbrace{\\frac{8}{36}}_{\\text{immediate}} \\;+\\;\n",
    "\\sum_{p\\in\\{4,5,6,8,9,10\\}}\n",
    "\\frac{a(p)}{36}\\cdot \\frac{a(p)}{a(p)+6} \\\\\n",
    "&= \\frac{8}{36}\n",
    "+ \\left[\\frac{3}{36}\\cdot\\frac{3}{9}\n",
    "+ \\frac{4}{36}\\cdot\\frac{4}{10}\n",
    "+ \\frac{5}{36}\\cdot\\frac{5}{11}\n",
    "+ \\frac{5}{36}\\cdot\\frac{5}{11}\n",
    "+ \\frac{4}{36}\\cdot\\frac{4}{10}\n",
    "+ \\frac{3}{36}\\cdot\\frac{3}{9}\\right] \\\\\n",
    "&= \\frac{244}{495}\\;\\approx\\;0.49293.\n",
    "\\end{aligned}\n",
    "$$\n",
    "\n",
    "Thus, $\\boxed{\\mathbb P(\\text{win on pass line})=\\tfrac{244}{495}}$."
   ]
  },
  {
   "cell_type": "markdown",
   "id": "07850781",
   "metadata": {},
   "source": [
    "4) A gambler has \\$256 to gamble with and plays a doubling strategy in a game with a 45% chance of winning and a 1:1 payout:\n",
    "\n",
    "- They bet \\$2. If they win, they stop playing.\n",
    "- If they lose, they double their previous bet and try again.\n",
    "- This continues until they either win, in which case they take their profits and walk away, or lose the \\$128 bet. At that point their bankroll is exhausted.\n",
    "\n",
    "\n",
    "a) Find the expected profit of the gambler. \n",
    "\n",
    "b) Use Monte-Carlo methods to estimate the expected profit of the gambler.\n",
    "\n",
    "c) What is the probability the strategy is profitable?\n",
    "\n",
    "d) Use Monte-Carlo methods to estimate the probability the strategy is profitable."
   ]
  },
  {
   "cell_type": "markdown",
   "id": "abe3bb67",
   "metadata": {},
   "source": [
    "4) Solution:\n",
    "\n",
    "### Doubling strategy with $p=0.45$, stakes $2,4,8,16,32,64,128$\n",
    "\n",
    "**Key observation.** With even-money payout and doubling after each loss, if you win before the 7th loss you always net **$+\\$2$**. If you lose all 7 bets, you lose **$-\\$255$** (since $2+4+\\cdots+128=255$).\n",
    "\n",
    "Let $p=0.45$ and $q=1-p=0.55$.\n",
    "\n",
    "- Probability of busting (lose all 7): $\\;q^7=0.55^7\\approx 0.0152243523$.\n",
    "- Probability the strategy is profitable (win before bust):  \n",
    "  $$\n",
    "  \\boxed{\\;1-q^7 \\approx 0.9847756477\\;}\\quad\\text{(part c)}\n",
    "  $$\n",
    "- Expected profit:\n",
    "  $$\n",
    "  \\mathbb E[\\Pi] = (+2)\\,(1-q^7)+(-255)\\,q^7\n",
    "  = 2 - 257\\,q^7\n",
    "  \\approx \\boxed{-1.9126585523}\\;\\text{dollars.} \\quad\\text{(part a)}\n",
    "  $$\n",
    "\n",
    "So the strategy **wins most of the time** (about 98.48%) but has a **negative expectation** (about $-\\$1.91$) because the rare bust is large.\n",
    "\n",
    "---\n",
    "\n",
    "### Monte-Carlo (parts b & d)\n",
    "\n",
    "- Simulate independent sequences of up to 7 bets with success prob $p=0.45$.\n",
    "- Profit per round $=\\;+\\$2$ if any success occurs, otherwise $-\\$255$.\n",
    "\n",
    "**Results (1,000,000 rounds; fixed seed):**\n",
    "- Estimated expected profit: $\\;\\hat{\\mathbb E}[\\Pi] \\approx -1.9308$  \n",
    "  (SE $\\approx 0.0315$; close to $-1.9127$).\n",
    "- Estimated profitability probability: $\\;\\widehat{\\mathbb P}(\\Pi>0)\\approx 0.984705$  \n",
    "  (SE $\\approx 1.23\\times10^{-4}$; close to $0.984776$).\n",
    "\n",
    "These align with the exact values above.\n"
   ]
  },
  {
   "cell_type": "code",
   "execution_count": 28,
   "id": "c145942e",
   "metadata": {},
   "outputs": [
    {
     "data": {
      "text/plain": [
       "(np.float64(-1.930815),\n",
       " np.float64(0.0315399610526855),\n",
       " np.float64(0.984705),\n",
       " np.float64(0.00012272352250078202))"
      ]
     },
     "execution_count": 28,
     "metadata": {},
     "output_type": "execute_result"
    }
   ],
   "source": [
    "import numpy as np\n",
    "\n",
    "rng = np.random.default_rng(12345)\n",
    "\n",
    "def simulate_rounds(n_trials: int, p_win: float = 0.45, max_bets: int = 7):\n",
    "    # Each row = one gambler's sequence of up to max_bets independent trials\n",
    "    wins = rng.random((n_trials, max_bets)) < p_win\n",
    "    any_win = wins.any(axis=1)\n",
    "    profit = np.where(any_win, 2, -255)  # doubling strategy profit per round\n",
    "    return profit\n",
    "\n",
    "# (b,d) Monte Carlo\n",
    "N = 1_000_000\n",
    "profits = simulate_rounds(N, p_win=0.45, max_bets=7)\n",
    "\n",
    "mc_expected_profit = profits.mean()\n",
    "mc_prob_profitable = (profits > 0).mean()\n",
    "\n",
    "# Quick 95% CI (normal approx)\n",
    "se_mean = profits.std(ddof=1) / np.sqrt(N)\n",
    "se_prob = np.sqrt(mc_prob_profitable * (1 - mc_prob_profitable) / N)\n",
    "\n",
    "(mc_expected_profit, se_mean, mc_prob_profitable, se_prob)\n"
   ]
  }
 ],
 "metadata": {
  "kernelspec": {
   "display_name": "venv (3.13.5)",
   "language": "python",
   "name": "python3"
  },
  "language_info": {
   "codemirror_mode": {
    "name": "ipython",
    "version": 3
   },
   "file_extension": ".py",
   "mimetype": "text/x-python",
   "name": "python",
   "nbconvert_exporter": "python",
   "pygments_lexer": "ipython3",
   "version": "3.13.5"
  }
 },
 "nbformat": 4,
 "nbformat_minor": 5
}
