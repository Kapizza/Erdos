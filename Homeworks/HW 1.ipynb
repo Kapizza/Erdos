{
 "cells": [
  {
   "cell_type": "markdown",
   "id": "6dc0b586",
   "metadata": {},
   "source": [
    "# HW 1\n",
    "\n",
    "**Fall 2025 Quantiative Methods in Finance**\n",
    "\n",
    "**The Erdös Institute**"
   ]
  },
  {
   "cell_type": "markdown",
   "id": "b4f17c45",
   "metadata": {},
   "source": [
    "1) Consider the process $X$ of randomly selecting numbers from the unit interval $[0,1]$ until the sum of values exceeds $1$. Prove that $E[X]=e$."
   ]
  },
  {
   "cell_type": "markdown",
   "id": "2c793c7f",
   "metadata": {},
   "source": [
    "2) Consider the random variable $X$ that selects a number from the two element $\\{1,-1\\}$ with the uniform distribution until the sum of the drawn values is $1$. Prove that $E[X] = \\infty$."
   ]
  },
  {
   "cell_type": "markdown",
   "id": "3720181a",
   "metadata": {},
   "source": [
    "3) Show the probability of winning a pass-line bet in Craps (Vegas rules) is $\\frac{244}{495}$."
   ]
  },
  {
   "cell_type": "markdown",
   "id": "07850781",
   "metadata": {},
   "source": [
    "4) A gambler has \\$256 to gamble with and plays a doubling strategy in a game with a 45% chance of winning and a 1:1 payout:\n",
    "\n",
    "- They bet \\$2. If they win, they stop playing.\n",
    "- If they lose, they double their previous bet and try again.\n",
    "- This continues until they either win, in which case they take their profits and walk away, or lose the \\$128 bet. At that point their bankroll is exhausted.\n",
    "\n",
    "\n",
    "a) Find the expected profit of the gambler. \n",
    "\n",
    "b) Use Monte-Carlo methods to estimate the expected profit of the gambler.\n",
    "\n",
    "c) What is the probability the strategy is profitable?\n",
    "\n",
    "d) Use Monte-Carlo methods to estimate the probability the strategy is profitable."
   ]
  }
 ],
 "metadata": {
  "kernelspec": {
   "display_name": "Python 3 (ipykernel)",
   "language": "python",
   "name": "python3"
  },
  "language_info": {
   "codemirror_mode": {
    "name": "ipython",
    "version": 3
   },
   "file_extension": ".py",
   "mimetype": "text/x-python",
   "name": "python",
   "nbconvert_exporter": "python",
   "pygments_lexer": "ipython3",
   "version": "3.9.13"
  }
 },
 "nbformat": 4,
 "nbformat_minor": 5
}
